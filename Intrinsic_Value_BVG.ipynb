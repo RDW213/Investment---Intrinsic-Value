{
  "nbformat": 4,
  "nbformat_minor": 0,
  "metadata": {
    "colab": {
      "provenance": []
    },
    "kernelspec": {
      "name": "python3",
      "display_name": "Python 3"
    },
    "language_info": {
      "name": "python"
    }
  },
  "cells": [
    {
      "cell_type": "code",
      "source": [
        "import pandas as pd\n",
        "import numpy as np\n",
        "import yfinance as yf\n",
        "from datetime import datetime, timedelta\n",
        "\n",
        "import requests"
      ],
      "metadata": {
        "id": "FdLWXSSiubkd"
      },
      "execution_count": 1,
      "outputs": []
    },
    {
      "cell_type": "markdown",
      "source": [
        "# Method 2: Based on book value growth\n",
        "This approach may works better for growth company that spends a lot on R&D such as Amazon, whose free cash flow is negative most of the time and thus can't use discounted cash flow to calculate its intrinsic value.\n",
        "\n",
        "You can choose the BookValueGrowthRate of the last x years depends which one do you think is more appropriate. A commonly used time frame is 5 years or 10 years.\n",
        "\n",
        "FutureBookValue = CurrentBookValuePerShare * (1 + BookValueGrowthRate) ^ NumberOfYears =\n",
        "\n",
        "CurrentIntrinsicValue = FutureBookValue / ((1 + TenYearTreasuryRate) ^ NumberOfYears))  "
      ],
      "metadata": {
        "id": "jlT6yIvuyhvt"
      }
    },
    {
      "cell_type": "code",
      "source": [
        "def calculate_intrinsic_value_based_on_book_value_growth(\n",
        "        current_book_value_per_share,\n",
        "        book_value_growth_rate,\n",
        "        years_to_project,\n",
        "        ten_year_treasury_rate\n",
        "    ):\n",
        "        \"\"\"\n",
        "        Args:\n",
        "        current_book_value_per_share:\n",
        "            The current book value per share of the company.\n",
        "        book_value_growth_rate:\n",
        "            The average book value growth rare of the company for the last x years.\n",
        "        num_of_years:\n",
        "            Number of years in the future that you want to calculate based on.\n",
        "        ten_year_treasury_rate:\n",
        "            The 10-year treaseury rate.\n",
        "\n",
        "        Returns:\n",
        "            The calculated intrinsic value.\n",
        "        \"\"\"\n",
        "        # Calculate future book value based on the growth rate\n",
        "        future_book_value = current_book_value_per_share * (1 + book_value_growth_rate) ** years_to_project\n",
        "\n",
        "        # Discount the future book value to get the intrinsic value\n",
        "        current_intrinsic_value = future_book_value / (1 + ten_year_treasury_rate) ** years_to_project\n",
        "\n",
        "        return current_intrinsic_value"
      ],
      "metadata": {
        "id": "ab8YRJtXyowR"
      },
      "execution_count": 2,
      "outputs": []
    },
    {
      "cell_type": "code",
      "source": [
        "# Define the function to retrieve company data\n",
        "def get_company_overview(api_key, symbol):\n",
        "    base_url = 'https://www.alphavantage.co/query'\n",
        "    function = 'OVERVIEW'\n",
        "    outputsize='compact'\n",
        "\n",
        "    # Make the API request\n",
        "    params = {\n",
        "        'function': function,\n",
        "        'symbol': symbol,\n",
        "        'outputsize': outputsize,\n",
        "        'apikey': api_key,\n",
        "    }\n",
        "\n",
        "    response = requests.get(base_url, params=params)\n",
        "\n",
        "    if response.status_code == 200:\n",
        "        return response.json()\n",
        "    else:\n",
        "        return None"
      ],
      "metadata": {
        "id": "dCfVgvjQFPcW"
      },
      "execution_count": 3,
      "outputs": []
    },
    {
      "cell_type": "code",
      "source": [
        "# Define the function to retrieve company balance sheet\n",
        "def get_company_balance_sheet(api_key, symbol):\n",
        "    base_url = 'https://www.alphavantage.co/query'\n",
        "    function = 'BALANCE_SHEET'\n",
        "    outputsize='compact'\n",
        "\n",
        "    # Make the API request\n",
        "    params = {\n",
        "        'function': function,\n",
        "        'symbol': symbol,\n",
        "        'outputsize': outputsize,\n",
        "        'apikey': api_key,\n",
        "    }\n",
        "\n",
        "    response = requests.get(base_url, params=params)\n",
        "\n",
        "    if response.status_code == 200:\n",
        "        return response.json()\n",
        "    else:\n",
        "        return None"
      ],
      "metadata": {
        "id": "6iROo-xpD-Ha"
      },
      "execution_count": 4,
      "outputs": []
    },
    {
      "cell_type": "code",
      "source": [
        "# Get the current year\n",
        "current_year = datetime.today().year\n",
        "\n",
        "# Replace 'YOUR_API_KEY' with your actual Alpha Vantage API key\n",
        "api_key = '03775CCKZ199ZUG2'\n",
        "\n",
        "# Define the symbol or stock you want to analyze\n",
        "ticker = 'TSLA'  # Replace with the stock symbol you are interested in\n",
        "\n",
        "# Call the function to get company overview data\n",
        "company_overview = get_company_overview(api_key, ticker)"
      ],
      "metadata": {
        "id": "JPkqZKf0OnAe"
      },
      "execution_count": 5,
      "outputs": []
    },
    {
      "cell_type": "code",
      "source": [
        "# Current book value per share\n",
        "\n",
        "current_year = datetime.today().year\n",
        "\n",
        "# Retrieve toal shareholders equity info\n",
        "balance_sheet = get_company_balance_sheet(api_key, ticker)\n",
        "total_equity = float(balance_sheet['annualReports'][0]['totalShareholderEquity'])\n",
        "\n",
        "# Replace with the number of shares outstanding for the company\n",
        "shares_outstanding = float(company_overview['SharesOutstanding'])\n",
        "\n",
        "current_book_value_per_share = total_equity / shares_outstanding\n",
        "\n",
        "current_book_value_per_share"
      ],
      "metadata": {
        "id": "mNecO0oqy84V",
        "colab": {
          "base_uri": "https://localhost:8080/"
        },
        "outputId": "a2cc4954-3024-435d-aa09-4fb85b0eb9f0"
      },
      "execution_count": 6,
      "outputs": [
        {
          "output_type": "execute_result",
          "data": {
            "text/plain": [
              "14.06263762535704"
            ]
          },
          "metadata": {},
          "execution_count": 6
        }
      ]
    },
    {
      "cell_type": "code",
      "source": [
        "# Book value growth rate\n",
        "\n",
        "book_value_per_share_last1 = float(balance_sheet['annualReports'][1]['totalShareholderEquity']) / shares_outstanding\n",
        "book_value_per_share_last2 = float(balance_sheet['annualReports'][2]['totalShareholderEquity']) / shares_outstanding\n",
        "\n",
        "book_value_growth_rate_lag1 = current_book_value_per_share / book_value_per_share_last1\n",
        "book_value_growth_rate_lag2 = book_value_per_share_last1 / book_value_per_share_last2\n",
        "\n",
        "book_value_growth_rate = (book_value_growth_rate_lag1 * 0.7 + book_value_growth_rate_lag2 * 0.3) - 1\n",
        "\n",
        "book_value_growth_rate"
      ],
      "metadata": {
        "id": "D3OEyE6iA-nj",
        "colab": {
          "base_uri": "https://localhost:8080/"
        },
        "outputId": "0c06bf66-f737-41f7-84a2-5cea7d36a1c1"
      },
      "execution_count": 7,
      "outputs": [
        {
          "output_type": "execute_result",
          "data": {
            "text/plain": [
              "0.4440635489479643"
            ]
          },
          "metadata": {},
          "execution_count": 7
        }
      ]
    },
    {
      "cell_type": "code",
      "source": [
        "# Num of years\n",
        "years_to_project = 5"
      ],
      "metadata": {
        "id": "JADlE9YnA8_q"
      },
      "execution_count": 8,
      "outputs": []
    },
    {
      "cell_type": "code",
      "source": [
        "# Ten year treasury rate\n",
        "treasury_yield10 = yf.Ticker(\"^TNX\")\n",
        "ten_year_treasury_rate = round(treasury_yield10.history(period=\"1d\")[\"Close\"][0] / 100, 5)\n",
        "\n",
        "ten_year_treasury_rate"
      ],
      "metadata": {
        "id": "igq_A_tdAzqJ",
        "colab": {
          "base_uri": "https://localhost:8080/"
        },
        "outputId": "0bfbf945-8e81-48b4-bb6c-ce15b49c9b7a"
      },
      "execution_count": 9,
      "outputs": [
        {
          "output_type": "execute_result",
          "data": {
            "text/plain": [
              "0.03928"
            ]
          },
          "metadata": {},
          "execution_count": 9
        }
      ]
    },
    {
      "cell_type": "code",
      "source": [
        "# Calculate intrinsic value\n",
        "intrinsic_value_bvg = calculate_intrinsic_value_based_on_book_value_growth(\n",
        "        current_book_value_per_share,\n",
        "        book_value_growth_rate,\n",
        "        years_to_project,\n",
        "        ten_year_treasury_rate)\n",
        "\n",
        "print(\"{}'s intrinsic value at the end of {} based on BVG is {:.2f}\".format(ticker, current_year + years_to_project, intrinsic_value_bvg))"
      ],
      "metadata": {
        "id": "gZBlipSHzJDZ",
        "colab": {
          "base_uri": "https://localhost:8080/"
        },
        "outputId": "258728c0-1ef5-4662-e0c9-f26344de521f"
      },
      "execution_count": 10,
      "outputs": [
        {
          "output_type": "stream",
          "name": "stdout",
          "text": [
            "TSLA's intrinsic value at the end of 2028 based on BVG is 72.83\n"
          ]
        }
      ]
    }
  ]
}