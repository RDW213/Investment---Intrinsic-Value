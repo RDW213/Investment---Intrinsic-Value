{
  "nbformat": 4,
  "nbformat_minor": 0,
  "metadata": {
    "colab": {
      "provenance": []
    },
    "kernelspec": {
      "name": "python3",
      "display_name": "Python 3"
    },
    "language_info": {
      "name": "python"
    }
  },
  "cells": [
    {
      "cell_type": "code",
      "source": [
        "import pandas as pd\n",
        "import numpy as np\n",
        "import yfinance as yf\n",
        "from datetime import datetime, timedelta\n",
        "\n",
        "import requests"
      ],
      "metadata": {
        "id": "FdLWXSSiubkd"
      },
      "execution_count": 67,
      "outputs": []
    },
    {
      "cell_type": "markdown",
      "source": [
        "# Method 1: discounted cash flow calculation\n",
        "The idea is https://www.streetofwalls.com/finance-training-courses/investment-banking-technical-training/discounted-cash-flow-analysis/ You can get the free cash per share, and cash flow growth rate on https://www.gurufocus.com, for example, here is cash flow information for Apple stock: https://www.gurufocus.com/stock/AAPL/dcf. WACC rate is here https://www.gurufocus.com/term/wacc/AAPL/WACC-Percentage"
      ],
      "metadata": {
        "id": "Nvvs9ot7twRf"
      }
    },
    {
      "cell_type": "code",
      "source": [
        "def calculate_intrinsic_value_based_on_discounted_cash_flow(\n",
        "        current_free_cash_flow_per_share,\n",
        "        free_cash_flow_per_share_growth_rate,\n",
        "        projected_number_of_years,\n",
        "        discount_rate,\n",
        "        perpetual_growth_rate\n",
        "    ):\n",
        "        \"\"\"\n",
        "        Args:\n",
        "            current_free_cash_per_share: Current free cash flow per share.\n",
        "            free_cash_flow_per_share_growth_rate: The average free cash per share growth rate\n",
        "                of the company for the last x years.\n",
        "            projected_number_of_years: Typically, a target’s FCF is projected out 5 to 10 years in the future.\n",
        "            discount_rate:  The rate of return used to determine the\n",
        "                present value of future cash flows. Corporations often use the\n",
        "                Weighted Average Cost of Capital (WACC).\n",
        "            perpetual_growth_rate: The constant rate that a company is expected to\n",
        "                grow at forever. Usually choose inflation rate.\n",
        "\n",
        "        Returns:\n",
        "            The calculated intrinsic value.\n",
        "        \"\"\"\n",
        "\n",
        "        # Calculate discounted cash flow of the next x years.\n",
        "        discounted_cash_flow = 0\n",
        "        for year in range(1, projected_number_of_years + 1):\n",
        "            cash_flow_at_the_year = current_free_cash_flow_per_share * (\n",
        "                pow((1 + free_cash_flow_per_share_growth_rate), year)\n",
        "            )\n",
        "            discounted_cash_flow += cash_flow_at_the_year / (pow((1 + discount_rate), year))\n",
        "\n",
        "        # Use Perpetuity Method to calculate the terminal value at x-th year.\n",
        "        cash_flow_of_last_year = current_free_cash_flow_per_share * (\n",
        "            pow((1 + free_cash_flow_per_share_growth_rate), projected_number_of_years)\n",
        "        )\n",
        "        terminal_value = (\n",
        "            cash_flow_of_last_year\n",
        "            * (1 + perpetual_growth_rate)\n",
        "            / (discount_rate - perpetual_growth_rate)\n",
        "        )\n",
        "        discounted_terminal_value = terminal_value / pow(\n",
        "            (1 + free_cash_flow_per_share_growth_rate), projected_number_of_years\n",
        "        )\n",
        "\n",
        "        current_intrinsic_value = discounted_cash_flow + discounted_terminal_value\n",
        "        return current_intrinsic_value"
      ],
      "metadata": {
        "id": "eA6gl380t1wJ"
      },
      "execution_count": 68,
      "outputs": []
    },
    {
      "cell_type": "code",
      "source": [
        "# Define the function to retrieve cash flow data\n",
        "def get_cash_flow(api_key, symbol):\n",
        "    base_url = 'https://www.alphavantage.co/query'\n",
        "    function = 'CASH_FLOW'\n",
        "    outputsize='compact'\n",
        "\n",
        "    # Make the API request\n",
        "    params = {\n",
        "        'function': function,\n",
        "        'symbol': symbol,\n",
        "        'outputsize': outputsize,\n",
        "        'apikey': api_key,\n",
        "    }\n",
        "\n",
        "    response = requests.get(base_url, params=params)\n",
        "\n",
        "    if response.status_code == 200:\n",
        "        data = response.json()\n",
        "        # Extract the last data point from the time series\n",
        "        last_5y = data['annualReports'][:5]\n",
        "        return last_5y\n",
        "    else:\n",
        "        return None"
      ],
      "metadata": {
        "id": "QSCTA3qJ9-c0"
      },
      "execution_count": 69,
      "outputs": []
    },
    {
      "cell_type": "code",
      "source": [
        "# Define the function to retrieve company data\n",
        "def get_company_overview(api_key, symbol):\n",
        "    base_url = 'https://www.alphavantage.co/query'\n",
        "    function = 'OVERVIEW'\n",
        "    outputsize='compact'\n",
        "\n",
        "    # Make the API request\n",
        "    params = {\n",
        "        'function': function,\n",
        "        'symbol': symbol,\n",
        "        'outputsize': outputsize,\n",
        "        'apikey': api_key,\n",
        "    }\n",
        "\n",
        "    response = requests.get(base_url, params=params)\n",
        "\n",
        "    if response.status_code == 200:\n",
        "        return response.json()\n",
        "    else:\n",
        "        return None"
      ],
      "metadata": {
        "id": "dCfVgvjQFPcW"
      },
      "execution_count": 70,
      "outputs": []
    },
    {
      "cell_type": "code",
      "source": [
        "# Define the function to retrieve inflation data\n",
        "def get_inflation(api_key, symbol):\n",
        "    base_url = 'https://www.alphavantage.co/query'\n",
        "    function = 'INFLATION'\n",
        "    outputsize='compact'\n",
        "\n",
        "    # Make the API request\n",
        "    params = {\n",
        "        'function': function,\n",
        "        'symbol': symbol,\n",
        "        'outputsize': outputsize,\n",
        "        'apikey': api_key,\n",
        "    }\n",
        "\n",
        "    response = requests.get(base_url, params=params)\n",
        "\n",
        "    if response.status_code == 200:\n",
        "        data = response.json()\n",
        "        # Extract the last data point from the time series\n",
        "        inf = data['data'][:5]\n",
        "        return inf\n",
        "    else:\n",
        "        return None"
      ],
      "metadata": {
        "id": "oUXhATZkd85P"
      },
      "execution_count": 71,
      "outputs": []
    },
    {
      "cell_type": "code",
      "source": [
        "# Get the current year\n",
        "current_year = datetime.today().year\n",
        "\n",
        "# Replace 'YOUR_API_KEY' with your actual Alpha Vantage API key\n",
        "api_key = '03775CCKZ199ZUG2'\n",
        "\n",
        "# Define the symbol or stock you want to analyze\n",
        "ticker = 'ON'  # Replace with the stock symbol you are interested in\n",
        "\n",
        "# Call the function to get cash flow data\n",
        "cahs_flow = get_cash_flow(api_key, ticker)\n",
        "\n",
        "# Call the function to get company overview data\n",
        "company_overview = get_company_overview(api_key, ticker)\n",
        "\n",
        "# Call the function to get inflation data\n",
        "inflation = get_inflation(api_key, ticker)"
      ],
      "metadata": {
        "id": "0gtDyOVmOWf0"
      },
      "execution_count": 72,
      "outputs": []
    },
    {
      "cell_type": "code",
      "source": [
        "# Current free cash flow per share\n",
        "\n",
        "# Calculate free cash flow\n",
        "current_free_cash_flow = float(cahs_flow[0]['operatingCashflow']) - float(cahs_flow[0]['capitalExpenditures'])\n",
        "\n",
        "# Replace with the number of shares outstanding for the company\n",
        "shares_outstanding = float(company_overview['SharesOutstanding'])\n",
        "\n",
        "# Calculate free cash flow per share\n",
        "current_free_cash_flow_per_share = current_free_cash_flow / shares_outstanding\n",
        "\n",
        "current_free_cash_flow_per_share"
      ],
      "metadata": {
        "id": "hNbyQhnU9e3y",
        "colab": {
          "base_uri": "https://localhost:8080/"
        },
        "outputId": "0692c53a-cde7-4bf8-b7a5-ddd0d6140b19"
      },
      "execution_count": 73,
      "outputs": [
        {
          "output_type": "execute_result",
          "data": {
            "text/plain": [
              "3.7801429307774823"
            ]
          },
          "metadata": {},
          "execution_count": 73
        }
      ]
    },
    {
      "cell_type": "code",
      "source": [
        "# Free cash flow per share growth rate for last year\n",
        "free_cash_flow_last1 = float(cahs_flow[1]['operatingCashflow']) - float(cahs_flow[1]['capitalExpenditures'])\n",
        "\n",
        "# Free cash flow per share growth rate for the year befor last year\n",
        "free_cash_flow_last2 = float(cahs_flow[2]['operatingCashflow']) - float(cahs_flow[2]['capitalExpenditures'])\n",
        "\n",
        "# Replace with the number of shares outstanding for the company\n",
        "shares_outstanding = float(company_overview['SharesOutstanding'])\n",
        "\n",
        "free_cash_flow_per_share_last1 = free_cash_flow_last1 / shares_outstanding\n",
        "free_cash_flow_per_share_last2 = free_cash_flow_last2 / shares_outstanding\n",
        "\n",
        "free_cash_flow_per_share_growth_rate_lag1 = (current_free_cash_flow_per_share / free_cash_flow_per_share_last1) - 1\n",
        "free_cash_flow_per_share_growth_rate_lag2 = (free_cash_flow_per_share_last1 / free_cash_flow_per_share_last2) - 1\n",
        "\n",
        "free_cash_flow_per_share_growth_rate = (free_cash_flow_per_share_growth_rate_lag1*0.7) + (free_cash_flow_per_share_growth_rate_lag2*0.3)\n",
        "\n",
        "free_cash_flow_per_share_growth_rate"
      ],
      "metadata": {
        "id": "lBls9Pqw8tT9",
        "colab": {
          "base_uri": "https://localhost:8080/"
        },
        "outputId": "1ca500b3-643c-4b87-8aa4-6483307b04f8"
      },
      "execution_count": 74,
      "outputs": [
        {
          "output_type": "execute_result",
          "data": {
            "text/plain": [
              "0.6534715866158842"
            ]
          },
          "metadata": {},
          "execution_count": 74
        }
      ]
    },
    {
      "cell_type": "code",
      "source": [
        "free_cash_flow_per_share_growth_rate"
      ],
      "metadata": {
        "colab": {
          "base_uri": "https://localhost:8080/"
        },
        "id": "MgD1RTkwuhIi",
        "outputId": "d558cc68-c95b-49b1-c679-dff38e326004"
      },
      "execution_count": 75,
      "outputs": [
        {
          "output_type": "execute_result",
          "data": {
            "text/plain": [
              "0.6534715866158842"
            ]
          },
          "metadata": {},
          "execution_count": 75
        }
      ]
    },
    {
      "cell_type": "code",
      "source": [
        "# Projected_number_of_years\n",
        "projected_number_of_years = 3"
      ],
      "metadata": {
        "id": "8z4ASHGX8wbP"
      },
      "execution_count": 76,
      "outputs": []
    },
    {
      "cell_type": "code",
      "source": [
        "# Discount rate (WACC - Weighted Average Cost of Capital)\n",
        "\n",
        "#A. Equity\n",
        "\n",
        "treasury_yield10 = yf.Ticker(\"^TNX\")\n",
        "risk_free_rate = round(treasury_yield10.history(period=\"1d\")[\"Close\"][0] / 100, 4)\n",
        "\n",
        "# Define the start and end date for your calculation\n",
        "start_date = datetime.today() - timedelta(days=3*365) # Replace with your desired start date\n",
        "end_date = datetime.today()    # Replace with your desired end date\n",
        "\n",
        "# Download S&P 500 Total Return Index data\n",
        "spx_tri_data = yf.download(\"^GSPC \", start=start_date, end=end_date, progress=False)\n",
        "\n",
        "# Calculate the total return\n",
        "initial_value = spx_tri_data[\"Close\"].iloc[0]\n",
        "final_value = spx_tri_data[\"Close\"].iloc[-1]\n",
        "total_return = (final_value / initial_value) - 1\n",
        "\n",
        "# Display the annual return\n",
        "sp500_teturn  = total_return / projected_number_of_years\n",
        "\n",
        "\n",
        "stock = yf.Ticker(ticker)\n",
        "beta = stock.info[\"beta\"]\n",
        "\n",
        "cost_of_equity = round(risk_free_rate + beta*(sp500_teturn - risk_free_rate),4)\n",
        "\n",
        "stock_bal = stock.balance_sheet\n",
        "weight_of_equity = stock_bal.loc[\"Stockholders Equity\"][0]/ stock_bal.loc[\"Total Assets\"][0]\n",
        "\n",
        "#B. Debt\n",
        "\n",
        "# get stock financial statement\n",
        "stock_Fin = stock.financials\n",
        "\n",
        "# Cost of Debt\n",
        "cost_of_debt = round(stock_Fin.loc[\"Interest Expense\"][0] *-1 / stock_bal.loc[\"Total Debt\"][0],4)\n",
        "\n",
        "weight_of_debt = round(stock_bal.loc[\"Total Debt\"][0]/ stock_bal.loc[\"Total Assets\"][0],4)\n",
        "\n",
        "#C. Tax Shield\n",
        "# Tax Rate\n",
        "tax_rate = round(stock_Fin.loc[\"Tax Provision\"][0] / stock_Fin.loc[\"Pretax Income\"][0],4)\n",
        "\n",
        "#D. WACC\n",
        "WACC = round((weight_of_equity * cost_of_equity) + ((weight_of_debt * cost_of_debt ) * (1-tax_rate)),4)\n",
        "\n",
        "discount_rate = WACC\n",
        "\n",
        "discount_rate"
      ],
      "metadata": {
        "id": "InVclMyBdkc1",
        "colab": {
          "base_uri": "https://localhost:8080/"
        },
        "outputId": "0d2faf37-9d35-474d-f38a-11a17888b66c"
      },
      "execution_count": 77,
      "outputs": [
        {
          "output_type": "execute_result",
          "data": {
            "text/plain": [
              "0.0607"
            ]
          },
          "metadata": {},
          "execution_count": 77
        }
      ]
    },
    {
      "cell_type": "code",
      "source": [
        "# Perpetual growth rate\n",
        "#perpetual_growth_rate = float(inflation[0].get('value'))*0.01\n",
        "\n",
        "perpetual_growth_rate = 0.03 # 2023 US inflartion data is missing, input manually\n",
        "\n",
        "perpetual_growth_rate"
      ],
      "metadata": {
        "id": "rdKSBI-AdcD3",
        "colab": {
          "base_uri": "https://localhost:8080/"
        },
        "outputId": "b11a0c4f-e8c2-4cb6-b7e8-e4a9535fc7e3"
      },
      "execution_count": 78,
      "outputs": [
        {
          "output_type": "execute_result",
          "data": {
            "text/plain": [
              "0.03"
            ]
          },
          "metadata": {},
          "execution_count": 78
        }
      ]
    },
    {
      "cell_type": "code",
      "source": [
        "# Calculate intrinsic value\n",
        "intrinsic_value_dcf = calculate_intrinsic_value_based_on_discounted_cash_flow(\n",
        "        current_free_cash_flow_per_share,\n",
        "        free_cash_flow_per_share_growth_rate,\n",
        "        projected_number_of_years,\n",
        "        discount_rate,\n",
        "        perpetual_growth_rate)\n",
        "\n",
        "# Print the result\n",
        "print(\"{} stock's intrinsic value at the end of {} based on DCF is {:.2f}\".format(ticker, current_year + projected_number_of_years, intrinsic_value_dcf))"
      ],
      "metadata": {
        "id": "LO3_hB8W1FC9",
        "colab": {
          "base_uri": "https://localhost:8080/"
        },
        "outputId": "d1a50a31-7395-4d39-ef8a-bf5be01e6b72"
      },
      "execution_count": 79,
      "outputs": [
        {
          "output_type": "stream",
          "name": "stdout",
          "text": [
            "ON stock's intrinsic value at the end of 2026 based on DCF is 156.22\n"
          ]
        }
      ]
    }
  ]
}